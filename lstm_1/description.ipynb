{
 "cells": [
  {
   "cell_type": "markdown",
   "id": "c18c5d24",
   "metadata": {},
   "source": [
    "Un modèle LSTM utilisant la fonction d’estimation des pertes de risque pour les transactions sur le marché\n",
    "Introduction\n",
    "L’apprentissage profond pourrait-il nous aider à acheter et à vendre des actions sur le marché ? La réponse pourrait être « oui ». Nous concevons une solution, nommée DeepTrade, comprenant la représentation des données d’historique, la construction de réseaux neuronaux et des méthodes d’optimisation du trading, qui pourraient maximiser nos profits sur la base de l’expérience passée.\n",
    "\n",
    "Dans notre solution, les représentations efficaces sont d’abord extraites des données d’historique (y compris la date/l’ouverture/le haut/le bas/la clôture/le volume). Ensuite, un réseau neuronal basé sur LSTM est construit pour apprendre des connaissances utiles pour orienter nos comportements de trading. Pendant ce temps, une fonction de perte est conçue de manière élaborée pour assurer que le réseau optimise notre profit et minimise notre risque. Enfin, selon les prédictions de ce réseau de neurones, des plans d’achat et de vente sont réalisés.\n",
    "\n",
    "Représentation des fonctionnalités\n",
    "Les fonctionnalités de l’historique sont extraites par ordre de date. Chaque jour, avec des données d’ouverture/haut/bas/clôture/volume, des caractéristiques invariantes sont calculées, notamment le taux de variation des prix, le MACD, le RSI, le taux de variation du volume, le BOLL, la distance entre la MA et le prix, la distance entre la MA du volume et le volume, la caractéristique croisée entre le prix et le volume. Certaines de ces fonctionnalités pourraient être utilisées directement. Certains d’entre eux devraient être normalisés. Et certains devraient utiliser des valeurs différentes. Une durée fixe (c’est-à-dire 30 jours) de fonctionnalité est extraite pour l’apprentissage du réseau.\n",
    "\n",
    "Construction du réseau\n",
    "Le réseau LSTM [1] est efficace pour apprendre des connaissances à partir de séries chronologiques. Une durée fixe des données d’historique (c’est-à-dire 30 jours) est utilisée pour planifier la transaction du lendemain. Nous faisons en sorte que la sortie du réseau ait une valeur réelle (p) comprise entre 0 et 1, ce qui signifie combien de position (pourcentage du capital) nous devrions détenir jusqu’à demain. De sorte que si le taux de variation des prix est r le lendemain, notre bénéfice sera p*r. Si r est négatif, nous avons perdu notre argent. Par conséquent, nous définissons une fonction de perte (appelée estimation du risque) pour le réseau LSTM :\n",
    "\n",
    "Perte = -100. * moyenne(P * R)\n",
    "\n",
    "P est un ensemble de notre production, et R est l’ensemble des taux de variation de prix correspondants. De plus, nous ajoutons à la fonction de perte un faible taux de coût (c = 0,0002) pour l’argent occupé par l’achat d’actions. La fonction de perte avec taux de coût est alors définie comme suit :\n",
    "\n",
    "Perte = -100. * moyenne(P * (R - c))\n",
    "\n",
    "Ces deux fonctions de perte sont évaluées dans nos expériences.\n",
    "\n",
    "Notre réseau comprend quatre couches : couche LSTM, couche connectée dense, couche de normalisation par lots [3], couche d’activation. La couche LSTM est utilisée pour apprendre des connaissances à partir d’histoires. La fonction relu6 est utilisée comme activation pour produire la valeur de sortie.\n",
    "\n",
    "Trading Plans\n",
    "Chaque jour, au moment précédant la clôture du marché (plus c’est proche, mieux c’est), l’historique d’entrée apparaît dans le réseau, puis nous obtenons une valeur de sortie p. Ce p signifie un avis de position du lendemain (pourcentage du capital). Si p=0, nous devrions vendre tout ce que nous avons avant de conclure. Si p est positif, nous devons garder une position de p au lendemain, vendre le redondant ou acheter l’insuffisant.\n",
    "\n",
    "Résultats expérimentaux\n",
    "Si le réseau devient fou (surapprentissage), il suffit de le redémarrer. Ou, une couche de décrochage [2] est une bonne idée. De plus, un ensemble de données de train plus grand sera utile."
   ]
  }
 ],
 "metadata": {
  "language_info": {
   "name": "python"
  }
 },
 "nbformat": 4,
 "nbformat_minor": 5
}
